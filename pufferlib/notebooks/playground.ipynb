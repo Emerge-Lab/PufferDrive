{
 "cells": [
  {
   "cell_type": "code",
   "execution_count": null,
   "id": "90c9e271",
   "metadata": {},
   "outputs": [],
   "source": [
    "import os\n",
    "import tarfile\n",
    "\n",
    "\n",
    "from matplotlib import rc\n",
    "import matplotlib.pyplot as plt\n",
    "import numpy as np\n",
    "import tensorflow as tf\n",
    "import tqdm\n",
    "import os\n",
    "import sys\n",
    "from pathlib import Path\n",
    "\n",
    "# Set up path\n",
    "notebook_path = Path(\".\").resolve()\n",
    "pufferlib_root = notebook_path.parent\n",
    "sys.path.insert(0, str(pufferlib_root))\n",
    "os.chdir(pufferlib_root)\n",
    "\n",
    "# CRITICAL: Clear sys.argv for Jupyter notebooks\n",
    "# This prevents Jupyter's internal arguments from being parsed by argparse\n",
    "sys.argv = [\"\"]\n",
    "\n",
    "import pufferlib.pufferl as pufferl"
   ]
  },
  {
   "cell_type": "markdown",
   "id": "1149d608",
   "metadata": {},
   "source": [
    "### Configs"
   ]
  },
  {
   "cell_type": "code",
   "execution_count": null,
   "id": "e7bd4e49",
   "metadata": {},
   "outputs": [],
   "source": [
    "ENV_NAME = \"puffer_drive\"\n",
    "NUM_ENVS = 1\n",
    "MAX_AGENTS = 1\n",
    "BACKEND = \"Serial\""
   ]
  },
  {
   "cell_type": "markdown",
   "id": "f9924a08",
   "metadata": {},
   "source": [
    "### Dependencies"
   ]
  },
  {
   "cell_type": "code",
   "execution_count": null,
   "id": "b4920f42",
   "metadata": {},
   "outputs": [],
   "source": [
    "from pufferlib.ocean.wosac.evaluator import WOSACEvaluator  # WOSAC benchmark"
   ]
  },
  {
   "cell_type": "markdown",
   "id": "a297110c",
   "metadata": {},
   "source": [
    "### Set up environment\n"
   ]
  },
  {
   "cell_type": "code",
   "execution_count": null,
   "id": "cbcb4a3a",
   "metadata": {},
   "outputs": [],
   "source": [
    "args = pufferl.load_config(ENV_NAME)\n",
    "args[\"vec\"] = dict(backend=BACKEND, num_envs=NUM_ENVS)\n",
    "args[\"env\"][\"num_agents\"] = MAX_AGENTS\n",
    "vecenv = pufferl.load_env(ENV_NAME, args)\n",
    "policy = pufferl.load_policy(args, vecenv, ENV_NAME)"
   ]
  },
  {
   "cell_type": "markdown",
   "id": "68062a48",
   "metadata": {},
   "source": [
    "### Pipeline"
   ]
  },
  {
   "cell_type": "code",
   "execution_count": null,
   "id": "f9ee8452",
   "metadata": {},
   "outputs": [],
   "source": [
    "evaluator = WOSACEvaluator(args)\n",
    "\n",
    "# Roll out trained policy in the simulator to collect trajectories\n",
    "# Output is a dict with every element (e.g., \"x\") of shape: [num_agents, num_rollouts, num_steps]\n",
    "simulated_trajectories = evaluator.collect_simulated_trajectories(args, vecenv=vecenv, policy=policy)\n",
    "\n",
    "print(len(simulated_trajectories))\n",
    "print(simulated_trajectories.keys())\n",
    "print(simulated_trajectories[\"x\"].shape)\n",
    "print(simulated_trajectories[\"scenario_id\"])"
   ]
  },
  {
   "cell_type": "code",
   "execution_count": null,
   "id": "b5758249",
   "metadata": {},
   "outputs": [],
   "source": [
    "# TODO(2) Prepare ground truth data\n",
    "# x_batch, y_batch, z_batch, heading_batch = evaluator.collect_ground_truth_data()\n",
    "\n",
    "# TODO(3) Compute WOSAC metrics\n",
    "# results = evaluator.compute_metrics(x_hat_batch, y_hat_batch, z_hat_batch, heading_hat_batch)\n",
    "\n",
    "# return results"
   ]
  }
 ],
 "metadata": {
  "kernelspec": {
   "display_name": "PufferDrive",
   "language": "python",
   "name": "python3"
  },
  "language_info": {
   "codemirror_mode": {
    "name": "ipython",
    "version": 3
   },
   "file_extension": ".py",
   "mimetype": "text/x-python",
   "name": "python",
   "nbconvert_exporter": "python",
   "pygments_lexer": "ipython3"
  }
 },
 "nbformat": 4,
 "nbformat_minor": 5
}
