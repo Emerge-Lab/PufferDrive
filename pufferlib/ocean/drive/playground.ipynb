{
 "cells": [
  {
   "cell_type": "code",
   "execution_count": null,
   "id": "90c9e271",
   "metadata": {},
   "outputs": [],
   "source": [
    "import os\n",
    "from matplotlib import rc\n",
    "import matplotlib.pyplot as plt\n",
    "import numpy as np\n",
    "import tensorflow as tf\n",
    "import tqdm\n",
    "import os\n",
    "import sys\n",
    "from pathlib import Path\n",
    "\n",
    "# Set working directory explicitly\n",
    "project_root = Path(\"/home/emerge/PufferDrive\").resolve()\n",
    "os.chdir(project_root)\n",
    "\n",
    "# Verify\n",
    "print(f\"Working directory: {os.getcwd()}\")\n",
    "print(f\"Resources exist: {os.path.exists('resources/drive/binaries/map_000.bin')}\")\n",
    "\n",
    "# Now set up your path stuff\n",
    "sys.path.insert(0, str(project_root))\n",
    "sys.argv = [\"\"]\n",
    "\n",
    "import pufferlib.pufferl as pufferl"
   ]
  },
  {
   "cell_type": "markdown",
   "id": "1149d608",
   "metadata": {},
   "source": [
    "### Configs"
   ]
  },
  {
   "cell_type": "code",
   "execution_count": null,
   "id": "e7bd4e49",
   "metadata": {},
   "outputs": [],
   "source": [
    "ENV_NAME = \"puffer_drive\"\n",
    "NUM_ENVS = 1\n",
    "MAX_AGENTS = 3\n",
    "BACKEND = \"Serial\""
   ]
  },
  {
   "cell_type": "markdown",
   "id": "f9924a08",
   "metadata": {},
   "source": [
    "### Dependencies"
   ]
  },
  {
   "cell_type": "code",
   "execution_count": null,
   "id": "b4920f42",
   "metadata": {},
   "outputs": [],
   "source": [
    "import pufferlib.ocean.wosac.evaluator as wosac_evaluator"
   ]
  },
  {
   "cell_type": "markdown",
   "id": "a297110c",
   "metadata": {},
   "source": [
    "### Set up environment\n"
   ]
  },
  {
   "cell_type": "code",
   "execution_count": null,
   "id": "cbcb4a3a",
   "metadata": {},
   "outputs": [],
   "source": [
    "args = pufferl.load_config(ENV_NAME)\n",
    "args[\"vec\"] = dict(backend=BACKEND, num_envs=NUM_ENVS)\n",
    "args[\"env\"][\"num_agents\"] = MAX_AGENTS\n",
    "args[\"init_steps\"] = 10\n",
    "args[\"env\"][\"control_non_vehicles\"] = True\n",
    "\n",
    "vecenv = pufferl.load_env(ENV_NAME, args)\n",
    "policy = pufferl.load_policy(args, vecenv, ENV_NAME)"
   ]
  },
  {
   "cell_type": "markdown",
   "id": "68062a48",
   "metadata": {},
   "source": [
    "### Pipeline"
   ]
  },
  {
   "cell_type": "code",
   "execution_count": null,
   "id": "670b2d40",
   "metadata": {},
   "outputs": [],
   "source": [
    "from importlib import reload\n",
    "\n",
    "reload(pufferl)\n",
    "reload(wosac_evaluator);"
   ]
  },
  {
   "cell_type": "code",
   "execution_count": null,
   "id": "f9ee8452",
   "metadata": {},
   "outputs": [],
   "source": [
    "evaluator = wosac_evaluator.WOSACEvaluator(args)\n",
    "\n",
    "# Roll out trained policy in the simulator to collect trajectories\n",
    "# Output is a dict with every element (e.g., \"x\") of shape: [num_agents, num_rollouts, num_steps]\n",
    "simulated_trajectories = evaluator.collect_simulated_trajectories(args, vecenv=vecenv, policy=policy)\n",
    "\n",
    "print(f\"keys: {simulated_trajectories.keys()}\")\n",
    "print(f\"shape of x: {simulated_trajectories['x'].shape}\")\n",
    "print(f\"scenario_id: {simulated_trajectories['scenario_id'][0]}\")"
   ]
  },
  {
   "cell_type": "code",
   "execution_count": null,
   "id": "9027cf82",
   "metadata": {},
   "outputs": [],
   "source": [
    "# Sanity check: Visualize rollouts\n",
    "plt.title(\"Simulated trajectories\")\n",
    "plt.scatter(simulated_trajectories[\"x\"][0, :, :], simulated_trajectories[\"y\"][0, :, :], alpha=0.1);"
   ]
  },
  {
   "cell_type": "code",
   "execution_count": null,
   "id": "df2386ae",
   "metadata": {},
   "outputs": [],
   "source": [
    "simulated_trajectories[\"id\"]"
   ]
  },
  {
   "cell_type": "code",
   "execution_count": null,
   "id": "b5758249",
   "metadata": {},
   "outputs": [],
   "source": [
    "# TODO(2) Prepare ground truth data\n",
    "# x_batch, y_batch, z_batch, heading_batch = evaluator.collect_ground_truth_data()\n",
    "\n",
    "# TODO(3) Compute WOSAC metrics\n",
    "# results = evaluator.compute_metrics(x_hat_batch, y_hat_batch, z_hat_batch, heading_hat_batch)\n",
    "\n",
    "# return results"
   ]
  }
 ],
 "metadata": {
  "kernelspec": {
   "display_name": "PufferDrive",
   "language": "python",
   "name": "python3"
  },
  "language_info": {
   "codemirror_mode": {
    "name": "ipython",
    "version": 3
   },
   "file_extension": ".py",
   "mimetype": "text/x-python",
   "name": "python",
   "nbconvert_exporter": "python",
   "pygments_lexer": "ipython3"
  }
 },
 "nbformat": 4,
 "nbformat_minor": 5
}
