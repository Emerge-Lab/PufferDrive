{
 "cells": [
  {
   "cell_type": "code",
   "execution_count": 1,
   "id": "0b6f726c",
   "metadata": {},
   "outputs": [],
   "source": [
    "import sys\n",
    "import os\n",
    "import json\n",
    "import glob\n",
    "import numpy as np\n",
    "from lxml import etree\n",
    "from pyxodr.road_objects.road import Road\n",
    "from pyxodr.road_objects.lane import Lane,ConnectionPosition,LaneOrientation, TrafficOrientation\n",
    "from pyxodr.road_objects.junction import Junction\n",
    "from pyxodr.road_objects.lane_section import LaneSection\n",
    "from pyxodr.road_objects.network import RoadNetwork\n",
    "from shapely.geometry import Polygon\n",
    "from enum import IntEnum\n"
   ]
  },
  {
   "cell_type": "code",
   "execution_count": 89,
   "id": "79719698",
   "metadata": {},
   "outputs": [],
   "source": [
    "carla_map_dir = 'C:\\\\Carla-0.10.0\\\\CarlaUnreal\\\\Content\\\\Carla\\\\Maps\\\\OpenDrive'\n",
    "odr_file = os.path.join(carla_map_dir, 'Town04.xodr')\n",
    "\n",
    "road_network = RoadNetwork(xodr_file_path=odr_file)"
   ]
  },
  {
   "cell_type": "code",
   "execution_count": 90,
   "id": "6fb6ef11",
   "metadata": {},
   "outputs": [
    {
     "name": "stdout",
     "output_type": "stream",
     "text": [
      "Number of roads in the network: 276\n",
      "Type: <class 'pyxodr.road_objects.road.Road'>\n",
      "Roads: [Road_0, Road_1, Road_2, Road_3, Road_4, Road_5, Road_6, Road_7, Road_8, Road_9, Road_10, Road_11, Road_12, Road_13, Road_14, Road_15, Road_16, Road_17, Road_18, Road_19, Road_20, Road_21, Road_22, Road_23, Road_24, Road_25, Road_26, Road_27, Road_28, Road_29, Road_30, Road_31, Road_32, Road_33, Road_34, Road_35, Road_36, Road_37, Road_38, Road_39, Road_40, Road_41, Road_42, Road_43, Road_44, Road_45, Road_46, Road_47, Road_48, Road_49, Road_50, Road_51, Road_52, Road_54, Road_56, Road_61, Road_63, Road_65, Road_69, Road_88, Road_89, Road_108, Road_109, Road_110, Road_115, Road_119, Road_123, Road_124, Road_128, Road_135, Road_136, Road_144, Road_145, Road_149, Road_158, Road_161, Road_170, Road_174, Road_179, Road_189, Road_209, Road_210, Road_225, Road_231, Road_239, Road_241, Road_247, Road_254, Road_266, Road_267, Road_271, Road_275, Road_290, Road_291, Road_306, Road_314, Road_319, Road_321, Road_330, Road_334, Road_350, Road_351, Road_372, Road_381, Road_385, Road_393, Road_400, Road_407, Road_413, Road_419, Road_428, Road_433, Road_457, Road_458, Road_467, Road_468, Road_477, Road_482, Road_496, Road_497, Road_510, Road_518, Road_527, Road_528, Road_540, Road_548, Road_551, Road_556, Road_561, Road_566, Road_569, Road_573, Road_593, Road_594, Road_633, Road_634, Road_653, Road_661, Road_665, Road_666, Road_674, Road_682, Road_684, Road_695, Road_702, Road_708, Road_731, Road_732, Road_746, Road_749, Road_760, Road_761, Road_774, Road_775, Road_779, Road_782, Road_797, Road_798, Road_799, Road_802, Road_807, Road_808, Road_809, Road_816, Road_819, Road_820, Road_826, Road_828, Road_829, Road_831, Road_844, Road_845, Road_861, Road_862, Road_863, Road_867, Road_879, Road_880, Road_886, Road_888, Road_901, Road_902, Road_907, Road_912, Road_926, Road_927, Road_940, Road_943, Road_949, Road_955, Road_962, Road_967, Road_968, Road_974, Road_980, Road_981, Road_988, Road_996, Road_1003, Road_1009, Road_1012, Road_1015, Road_1020, Road_1024, Road_1028, Road_1043, Road_1044, Road_1072, Road_1073, Road_1076, Road_1080, Road_1091, Road_1092, Road_1097, Road_1101, Road_1114, Road_1115, Road_1122, Road_1133, Road_1141, Road_1148, Road_1155, Road_1161, Road_1162, Road_1173, Road_1174, Road_1184, Road_1185, Road_1191, Road_1194, Road_1209, Road_1210, Road_1217, Road_1225, Road_1230, Road_1232, Road_1239, Road_1263, Road_1264, Road_1281, Road_1288, Road_1296, Road_1297, Road_1307, Road_1312, Road_1318, Road_1327, Road_1337, Road_1360, Road_1361, Road_1400, Road_1401, Road_1412, Road_1421, Road_1432, Road_1442, Road_1450, Road_1465, Road_1466, Road_1479, Road_1488, Road_1494, Road_1497, Road_1507, Road_1519, Road_1522, Road_1531, Road_1534, Road_1539, Road_1546, Road_1567, Road_1568, Road_1594, Road_1595, Road_1601, Road_1602]\n"
     ]
    }
   ],
   "source": [
    "roads = road_network.get_roads()\n",
    "print(f\"Number of roads in the network: {len(roads)}\")\n",
    "print(f\"Type: {type(roads[0])}\\nRoads: {roads}\")"
   ]
  },
  {
   "cell_type": "code",
   "execution_count": 72,
   "id": "b75ca96f",
   "metadata": {},
   "outputs": [
    {
     "name": "stdout",
     "output_type": "stream",
     "text": [
      "Number of roads with multiple lane sections: 10\n",
      "Road IDs with multiple lane sections:\n",
      "  - 404\n",
      "  - 415\n",
      "  - 438\n",
      "  - 741\n",
      "  - 764\n",
      "  - 799\n",
      "  - 823\n",
      "  - 1124\n",
      "  - 1129\n",
      "  - 1159\n"
     ]
    }
   ],
   "source": [
    "multi_lane_section_roads = []\n",
    "\n",
    "for road in roads:\n",
    "    if len(road.lane_sections) > 1:\n",
    "        multi_lane_section_roads.append(road)\n",
    "\n",
    "print(f\"Number of roads with multiple lane sections: {len(multi_lane_section_roads)}\")\n",
    "print(\"Road IDs with multiple lane sections:\")\n",
    "for road in multi_lane_section_roads:\n",
    "    print(f\"  - {road.id}\")\n",
    "\n",
    "# Check for no links case in lanes of roads with multiple lane sections\n",
    "for road in multi_lane_section_roads:\n",
    "    for lane_section in road.lane_sections:\n",
    "        for lane in lane_section.left_lanes:\n",
    "            if lane.lane_xml.attrib[\"type\"]==\"driving\":\n",
    "                link_xml = lane.lane_xml.find(\"link\")\n",
    "                if link_xml is None:\n",
    "                    print(f\"  - Road ID: {road.id}, Lane Section ID: {lane_section.lane_section_ordinal}, Lane ID: {lane.id} has no link.\")\n",
    "        for lane in lane_section.right_lanes:\n",
    "            if lane.lane_xml.attrib[\"type\"]==\"driving\":\n",
    "                link_xml = lane.lane_xml.find(\"link\")\n",
    "                if link_xml is None:\n",
    "                    print(f\"  - Road ID: {road.id}, Lane Section ID: {lane_section.lane_section_ordinal}, Lane ID: {lane.id} has no link.\")"
   ]
  },
  {
   "cell_type": "markdown",
   "id": "08461732",
   "metadata": {},
   "source": [
    "Conclusion: There is no driving lane without a link in a road that has multiple lane_sections"
   ]
  },
  {
   "cell_type": "code",
   "execution_count": 93,
   "id": "70cb7fb6",
   "metadata": {},
   "outputs": [
    {
     "name": "stdout",
     "output_type": "stream",
     "text": [
      "Multi-successor roads: []\n",
      "Multi-predecessor roads: []\n",
      "Multi-successor lanes: []\n",
      "Multi-predecessor lanes: []\n"
     ]
    }
   ],
   "source": [
    "# Finding multi-successor/predecessor roads\n",
    "\n",
    "multi_successor_roads = []\n",
    "multi_predecessor_roads = []\n",
    "\n",
    "for road in road_network.get_roads():\n",
    "    if len(road.road_xml.find(\"link\").findall(\"successor\")) > 1:\n",
    "        multi_successor_roads.append(road)\n",
    "    if len(road.road_xml.find(\"link\").findall(\"predecessor\")) > 1:\n",
    "        multi_predecessor_roads.append(road)\n",
    "\n",
    "print(f\"Multi-successor roads: {[road.id for road in multi_successor_roads]}\")\n",
    "print(f\"Multi-predecessor roads: {[road.id for road in multi_predecessor_roads]}\")\n",
    "\n",
    "# Finding multi-successor/predecessor lanes\n",
    "\n",
    "multi_successor_lanes = []\n",
    "multi_predecessor_lanes = []\n",
    "\n",
    "for road in road_network.get_roads():\n",
    "    for lane_section in road.lane_sections:\n",
    "        for lane in lane_section.left_lanes + lane_section.right_lanes:\n",
    "            if lane.lane_xml.find(\"link\") is not None:\n",
    "                if lane.lane_xml.find(\"link\").findall(\"successor\") is not []:\n",
    "                    if len(lane.lane_xml.find(\"link\").findall(\"successor\")) > 1:\n",
    "                        multi_successor_lanes.append((lane.id, lane_section.lane_section_ordinal, road.id))\n",
    "                if lane.lane_xml.find(\"link\").findall(\"predecessor\") is not []:\n",
    "                    if len(lane.lane_xml.find(\"link\").findall(\"predecessor\")) > 1:\n",
    "                        multi_predecessor_lanes.append((lane.id, lane_section.lane_section_ordinal, road.id))\n",
    "\n",
    "print(f\"Multi-successor lanes: {multi_successor_lanes}\")\n",
    "print(f\"Multi-predecessor lanes: {multi_predecessor_lanes}\")"
   ]
  },
  {
   "cell_type": "markdown",
   "id": "5613bebc",
   "metadata": {},
   "source": [
    "Conclusion: There is no road element or lane that has multiple successor or predecessor links"
   ]
  },
  {
   "cell_type": "code",
   "execution_count": 74,
   "id": "ac751a0b",
   "metadata": {},
   "outputs": [],
   "source": [
    "def get_road(road_network, road_id):\n",
    "    for road in road_network.get_roads():\n",
    "        if road.id == road_id:\n",
    "            return road\n",
    "    return None"
   ]
  },
  {
   "cell_type": "code",
   "execution_count": 92,
   "id": "e63af106",
   "metadata": {},
   "outputs": [],
   "source": [
    "# Check if every pred of a road has itself as a succ/pred in the pred_road\n",
    "for road_obj in road_network.get_roads():\n",
    "    if road_obj.road_xml.attrib[\"junction\"] != \"-1\":\n",
    "        continue\n",
    "    if road_obj.road_xml.find(\"link\") is not None and road_obj.road_xml.find(\"link\").findall(\"predecessor\") is not []:\n",
    "        for pred in road_obj.road_xml.find(\"link\").findall(\"predecessor\"):\n",
    "            found = False\n",
    "            if pred.attrib[\"elementType\"] != \"road\":\n",
    "                continue\n",
    "            pred_road = get_road(road_network, pred.attrib[\"elementId\"])\n",
    "            if pred_road is not None:\n",
    "                if pred_road.road_xml.find(\"link\") is not None and pred_road.road_xml.find(\"link\").findall(\"successor\") is not []:\n",
    "                    for succ in pred_road.road_xml.find(\"link\").findall(\"successor\"):\n",
    "                        if succ.attrib[\"elementType\"] == \"road\" and succ.attrib[\"elementId\"] == road_obj.id:\n",
    "                            found = True\n",
    "                            break\n",
    "                if pred_road.road_xml.find(\"link\") is not None and pred_road.road_xml.find(\"link\").findall(\"predecessor\") is not []:\n",
    "                    for pred_pred in pred_road.road_xml.find(\"link\").findall(\"predecessor\"):\n",
    "                        if pred_pred.attrib[\"elementType\"] == \"road\" and pred_pred.attrib[\"elementId\"] == road_obj.id:\n",
    "                            found = True\n",
    "                            break\n",
    "                if not found:\n",
    "                    print(f\"Road {pred_road.id} is a predecessor of {road_obj.id}, but {pred_road.id} does not list {road_obj.id} as a successor/predecessor.\")\n",
    "            else:\n",
    "                print(f\"Predecessor road with ID {pred.attrib['elementId']} not found in the network.\")"
   ]
  },
  {
   "cell_type": "markdown",
   "id": "eba158a3",
   "metadata": {},
   "source": [
    "Conclusion: Every predecessor of a road has itself as a successor/predecessor in the pred_road, and vice-versa for successor"
   ]
  },
  {
   "cell_type": "markdown",
   "id": "8a3083c5",
   "metadata": {},
   "source": [
    "Roads Data Analysis in JSON"
   ]
  },
  {
   "cell_type": "code",
   "execution_count": 2,
   "id": "4826ec18",
   "metadata": {},
   "outputs": [
    {
     "name": "stdout",
     "output_type": "stream",
     "text": [
      "\n",
      "Reading JSON file: ../carla\\town01.json\n",
      "Number of roads in the JSON: 346\n",
      "Max geometries in a road: 3683\n",
      "Min geometries in a road: 18\n",
      "Total geometries in the JSON: 47503\n",
      "Average geometries per road: 137.29190751445086\n",
      "\n",
      "Reading JSON file: ../carla\\town02.json\n",
      "Number of roads in the JSON: 244\n",
      "Max geometries in a road: 3015\n",
      "Min geometries in a road: 15\n",
      "Total geometries in the JSON: 42614\n",
      "Average geometries per road: 174.64754098360655\n",
      "\n",
      "Reading JSON file: ../carla\\town03.json\n",
      "Number of roads in the JSON: 1335\n",
      "Max geometries in a road: 7856\n",
      "Min geometries in a road: 2\n",
      "Total geometries in the JSON: 144513\n",
      "Average geometries per road: 108.24943820224719\n",
      "\n",
      "Reading JSON file: ../carla\\town04.json\n",
      "Number of roads in the JSON: 1230\n",
      "Max geometries in a road: 2982\n",
      "Min geometries in a road: 2\n",
      "Total geometries in the JSON: 131327\n",
      "Average geometries per road: 106.76991869918699\n",
      "\n",
      "Reading JSON file: ../carla\\town05.json\n",
      "Number of roads in the JSON: 1291\n",
      "Max geometries in a road: 10000\n",
      "Min geometries in a road: 2\n",
      "Total geometries in the JSON: 436933\n",
      "Average geometries per road: 338.44539116963597\n",
      "\n",
      "Reading JSON file: ../carla\\town06.json\n",
      "Number of roads in the JSON: 1232\n",
      "Max geometries in a road: 10000\n",
      "Min geometries in a road: 1\n",
      "Total geometries in the JSON: 234618\n",
      "Average geometries per road: 190.4366883116883\n",
      "\n",
      "Reading JSON file: ../carla\\town07.json\n",
      "Number of roads in the JSON: 820\n",
      "Max geometries in a road: 10000\n",
      "Min geometries in a road: 1\n",
      "Total geometries in the JSON: 116550\n",
      "Average geometries per road: 142.1341463414634\n",
      "\n",
      "Reading JSON file: ../carla\\town10HD.json\n",
      "Number of roads in the JSON: 430\n",
      "Max geometries in a road: 5363\n",
      "Min geometries in a road: 3\n",
      "Total geometries in the JSON: 168490\n",
      "Average geometries per road: 391.83720930232556\n",
      "\n",
      "Reading JSON file: ../carla\\town10HD2.json\n",
      "Number of roads in the JSON: 430\n",
      "Max geometries in a road: 120\n",
      "Min geometries in a road: 1\n",
      "Total geometries in the JSON: 12350\n",
      "Average geometries per road: 28.72093023255814\n"
     ]
    }
   ],
   "source": [
    "json_dir = \"../carla\"  # replace with your directory path\n",
    "json_files = glob.glob(os.path.join(json_dir, \"*.json\"))\n",
    "\n",
    "for jf in json_files:\n",
    "    with open(jf, \"r\") as f:\n",
    "        print(f\"\\nReading JSON file: {jf}\")\n",
    "        data = json.load(f)\n",
    "        if \"roads\" in data:\n",
    "            num_geometries = [len(road['geometry']) for road in data['roads']]\n",
    "            print(f\"Number of roads in the JSON: {len(data['roads'])}\")\n",
    "            print(f\"Max geometries in a road: {max(num_geometries)}\")\n",
    "            print(f\"Min geometries in a road: {min(num_geometries)}\")\n",
    "            print(f\"Total geometries in the JSON: {sum(num_geometries)}\")\n",
    "            print(f\"Average geometries per road: {sum(num_geometries) / len(num_geometries)}\")\n",
    "        else:\n",
    "            print(\"No 'roads' key found in this JSON file.\")\n"
   ]
  }
 ],
 "metadata": {
  "kernelspec": {
   "display_name": "Python 3",
   "language": "python",
   "name": "python3"
  },
  "language_info": {
   "codemirror_mode": {
    "name": "ipython",
    "version": 3
   },
   "file_extension": ".py",
   "mimetype": "text/x-python",
   "name": "python",
   "nbconvert_exporter": "python",
   "pygments_lexer": "ipython3",
   "version": "3.12.6"
  }
 },
 "nbformat": 4,
 "nbformat_minor": 5
}
